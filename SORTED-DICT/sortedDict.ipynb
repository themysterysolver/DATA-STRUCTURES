{
  "nbformat": 4,
  "nbformat_minor": 0,
  "metadata": {
    "colab": {
      "provenance": [],
      "authorship_tag": "ABX9TyO6GMyEOWciSZK8ml85tftT",
      "include_colab_link": true
    },
    "kernelspec": {
      "name": "python3",
      "display_name": "Python 3"
    },
    "language_info": {
      "name": "python"
    }
  },
  "cells": [
    {
      "cell_type": "markdown",
      "metadata": {
        "id": "view-in-github",
        "colab_type": "text"
      },
      "source": [
        "<a href=\"https://colab.research.google.com/github/themysterysolver/DATA-STRUCTURES/blob/main/SORTED-DICT/sortedDict.ipynb\" target=\"_parent\"><img src=\"https://colab.research.google.com/assets/colab-badge.svg\" alt=\"Open In Colab\"/></a>"
      ]
    },
    {
      "cell_type": "markdown",
      "source": [
        "## SortedDict\n",
        "- This stores dictionary `keys` in **sorted order**"
      ],
      "metadata": {
        "id": "PsyA36UeCG4u"
      }
    },
    {
      "cell_type": "code",
      "source": [
        "!pip install sortedcontainers"
      ],
      "metadata": {
        "colab": {
          "base_uri": "https://localhost:8080/"
        },
        "id": "UD8dXF3OBrCa",
        "outputId": "96f7196b-14aa-4367-d64d-cacba0dcf4ff"
      },
      "execution_count": 2,
      "outputs": [
        {
          "output_type": "stream",
          "name": "stdout",
          "text": [
            "Requirement already satisfied: sortedcontainers in /usr/local/lib/python3.11/dist-packages (2.4.0)\n"
          ]
        }
      ]
    },
    {
      "cell_type": "code",
      "source": [
        "from sortedcontainers import SortedDict"
      ],
      "metadata": {
        "id": "x_AWVEzoBxQB"
      },
      "execution_count": 5,
      "outputs": []
    },
    {
      "cell_type": "code",
      "execution_count": 7,
      "metadata": {
        "id": "mnOAoMvh6ya9"
      },
      "outputs": [],
      "source": [
        "d=SortedDict()\n",
        "for i in range(10,-1,-1):\n",
        "  d[i]=i+1"
      ]
    },
    {
      "cell_type": "code",
      "source": [
        "print(d)"
      ],
      "metadata": {
        "colab": {
          "base_uri": "https://localhost:8080/"
        },
        "id": "Lm3Q4goK7Ccs",
        "outputId": "f9cbb8be-3c2e-4ab5-d883-66f303543606"
      },
      "execution_count": 8,
      "outputs": [
        {
          "output_type": "stream",
          "name": "stdout",
          "text": [
            "SortedDict({0: 1, 1: 2, 2: 3, 3: 4, 4: 5, 5: 6, 6: 7, 7: 8, 8: 9, 9: 10, 10: 11})\n"
          ]
        }
      ]
    },
    {
      "cell_type": "code",
      "source": [],
      "metadata": {
        "id": "ociDEkz9CEbV"
      },
      "execution_count": null,
      "outputs": []
    }
  ]
}