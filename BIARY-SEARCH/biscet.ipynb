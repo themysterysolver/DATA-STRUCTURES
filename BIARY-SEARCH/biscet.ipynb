{
  "nbformat": 4,
  "nbformat_minor": 0,
  "metadata": {
    "colab": {
      "provenance": [],
      "authorship_tag": "ABX9TyNugcZzWhD9/eOLdzdDRYes",
      "include_colab_link": true
    },
    "kernelspec": {
      "name": "python3",
      "display_name": "Python 3"
    },
    "language_info": {
      "name": "python"
    }
  },
  "cells": [
    {
      "cell_type": "markdown",
      "metadata": {
        "id": "view-in-github",
        "colab_type": "text"
      },
      "source": [
        "<a href=\"https://colab.research.google.com/github/themysterysolver/DATA-STRUCTURES/blob/main/BIARY-SEARCH/biscet.ipynb\" target=\"_parent\"><img src=\"https://colab.research.google.com/assets/colab-badge.svg\" alt=\"Open In Colab\"/></a>"
      ]
    },
    {
      "cell_type": "markdown",
      "source": [
        "## BISECT\n",
        "- They help in `binary search` in ***sorted list***\n",
        "```\n",
        "bisect_left(lst, x)\n",
        "bisect_right(lst, x)\n",
        "\n",
        "```\n",
        "- gives leftmost position to insert x.\n",
        "- gives the rightmost position to insert X\n"
      ],
      "metadata": {
        "id": "psct_yMMC4ua"
      }
    },
    {
      "cell_type": "code",
      "execution_count": 2,
      "metadata": {
        "id": "vjMZY0QzC0-o"
      },
      "outputs": [],
      "source": [
        "from bisect import bisect_left, bisect_right"
      ]
    },
    {
      "cell_type": "code",
      "source": [
        "arr=[1,2,5,6,7,8,9,10]"
      ],
      "metadata": {
        "id": "7h3QL2z8DDhj"
      },
      "execution_count": 9,
      "outputs": []
    },
    {
      "cell_type": "code",
      "source": [
        "print(bisect_left(arr,4))\n",
        "print(arr)\n",
        "print(bisect_right(arr,4))"
      ],
      "metadata": {
        "colab": {
          "base_uri": "https://localhost:8080/"
        },
        "id": "W8W2trrtHBzy",
        "outputId": "b9f07613-4fc8-4825-ae8d-ef30f5bc9593"
      },
      "execution_count": 10,
      "outputs": [
        {
          "output_type": "stream",
          "name": "stdout",
          "text": [
            "2\n",
            "[1, 2, 5, 6, 7, 8, 9, 10]\n",
            "2\n"
          ]
        }
      ]
    },
    {
      "cell_type": "code",
      "source": [],
      "metadata": {
        "id": "m9O4DrbpHouv"
      },
      "execution_count": null,
      "outputs": []
    }
  ]
}